{
 "cells": [
  {
   "cell_type": "code",
   "execution_count": null,
   "metadata": {
    "ExecuteTime": {
     "end_time": "2019-10-15T18:08:47.551254Z",
     "start_time": "2019-10-15T18:08:46.930960Z"
    }
   },
   "outputs": [],
   "source": [
    "import pandas as pd\n",
    "import requests\n",
    "import json\n",
    "from pprint import pprint"
   ]
  },
  {
   "cell_type": "code",
   "execution_count": null,
   "metadata": {
    "ExecuteTime": {
     "end_time": "2019-10-15T18:08:47.555243Z",
     "start_time": "2019-10-15T18:08:47.552253Z"
    }
   },
   "outputs": [],
   "source": [
    "# url = \"https://api.acleddata.com/acled/read?terms=accept&page=1&iso=760\"\n",
    "# response = requests.get(url).json()\n",
    "# data = response['data']\n",
    "# df = pd.DataFrame(data)\n",
    "# df"
   ]
  },
  {
   "cell_type": "code",
   "execution_count": null,
   "metadata": {
    "ExecuteTime": {
     "end_time": "2019-10-15T18:08:49.847915Z",
     "start_time": "2019-10-15T18:08:47.977671Z"
    }
   },
   "outputs": [],
   "source": [
    "url1 = \"https://api.acleddata.com/acled/read?terms=accept&page=1&iso=760&actor1=Military Forces of Turkey (2016-):OR:actor1=ypg:OR:actor1=Operation Olive Branch&actor2=ypg:OR:actor2=Military Forces of Turkey (2016-):OR:actor2=Operation Olive Branch&admin1=Al-Hasakeh:OR:admin1=Raqqa:OR:admin1=Deir ez-Zor:OR:admin1=Aleppo\"\n",
    "response1 = requests.get(url1).json()\n",
    "data1 = response1['data']\n",
    "df1 = pd.DataFrame(data1)\n",
    "df1.columns"
   ]
  },
  {
   "cell_type": "code",
   "execution_count": null,
   "metadata": {
    "ExecuteTime": {
     "end_time": "2019-10-15T18:08:56.111684Z",
     "start_time": "2019-10-15T18:08:54.303599Z"
    }
   },
   "outputs": [],
   "source": [
    "url2 = \"https://api.acleddata.com/acled/read?terms=accept&page=2&iso=760&actor1=Military Forces of Turkey (2016-):OR:actor1=ypg:OR:actor1=Operation Olive Branch&actor2=ypg:OR:actor2=Military Forces of Turkey (2016-):OR:actor2=Operation Olive Branch&admin1=Al-Hasakeh:OR:admin1=Raqqa:OR:admin1=Deir ez-Zor:OR:admin1=Aleppo\"\n",
    "response2 = requests.get(url2).json()\n",
    "data2 = response2['data']\n",
    "df2 = pd.DataFrame(data2)\n",
    "df2.columns"
   ]
  },
  {
   "cell_type": "code",
   "execution_count": null,
   "metadata": {
    "ExecuteTime": {
     "end_time": "2019-10-15T18:08:58.378857Z",
     "start_time": "2019-10-15T18:08:58.346957Z"
    }
   },
   "outputs": [],
   "source": [
    "frames = [df1, df2]\n",
    "syria_df = pd.concat(frames)\n",
    "syria_df"
   ]
  },
  {
   "cell_type": "code",
   "execution_count": 8,
   "metadata": {
    "ExecuteTime": {
     "end_time": "2019-10-15T18:27:03.146109Z",
     "start_time": "2019-10-15T18:27:03.140110Z"
    }
   },
   "outputs": [
    {
     "data": {
      "text/plain": [
       "array(['Explosions/Remote violence', 'Battles', 'Strategic developments'],\n",
       "      dtype=object)"
      ]
     },
     "execution_count": 8,
     "metadata": {},
     "output_type": "execute_result"
    }
   ],
   "source": [
    "syria_df['event_type'].unique()"
   ]
  },
  {
   "cell_type": "code",
   "execution_count": 11,
   "metadata": {
    "ExecuteTime": {
     "end_time": "2019-10-15T18:29:25.403242Z",
     "start_time": "2019-10-15T18:29:25.398281Z"
    },
    "scrolled": true
   },
   "outputs": [
    {
     "data": {
      "text/plain": [
       "array(['Air/drone strike', 'Armed clash',\n",
       "       'Shelling/artillery/missile attack',\n",
       "       'Non-state actor overtakes territory', 'Change to group/activity',\n",
       "       'Non-violent transfer of territory',\n",
       "       'Remote explosive/landmine/IED', 'Disrupted weapons use',\n",
       "       'Chemical weapon'], dtype=object)"
      ]
     },
     "execution_count": 11,
     "metadata": {},
     "output_type": "execute_result"
    }
   ],
   "source": [
    "syria_df['sub_event_type'].unique()"
   ]
  },
  {
   "cell_type": "code",
   "execution_count": null,
   "metadata": {
    "ExecuteTime": {
     "end_time": "2019-10-14T23:13:37.200204Z",
     "start_time": "2019-10-14T23:13:37.191227Z"
    }
   },
   "outputs": [],
   "source": [
    "test = syria_df[syria_df['event_date']==\"2018-06-16\"]\n",
    "test[\"notes\"]"
   ]
  },
  {
   "cell_type": "code",
   "execution_count": null,
   "metadata": {
    "ExecuteTime": {
     "end_time": "2019-10-14T23:10:55.462311Z",
     "start_time": "2019-10-14T23:10:55.453339Z"
    }
   },
   "outputs": [],
   "source": [
    "# ['data_id', 'iso', 'event_id_cnty', 'event_id_no_cnty', 'event_date',\n",
    "#        'year', 'time_precision', 'event_type', 'sub_event_type', 'actor1',\n",
    "#        'assoc_actor_1', 'inter1', 'actor2', 'assoc_actor_2', 'inter2',\n",
    "#        'interaction', 'region', 'country', 'admin1', 'admin2', 'admin3',\n",
    "#        'location', 'latitude', 'longitude', 'geo_precision', 'source',\n",
    "#        'source_scale', 'notes', 'fatalities', 'timestamp', 'iso3']"
   ]
  },
  {
   "cell_type": "code",
   "execution_count": null,
   "metadata": {},
   "outputs": [],
   "source": [
    "syria_df.toCSV"
   ]
  },
  {
   "cell_type": "code",
   "execution_count": null,
   "metadata": {},
   "outputs": [],
   "source": [
    "syria_df1 = ['data_id', 'iso', 'event_id_cnty', 'event_id_no_cnty', 'event_date',\n",
    "       'year', 'time_precision', 'event_type', 'sub_event_type', 'actor1',\n",
    "       'assoc_actor_1', 'inter1', 'actor2', 'assoc_actor_2', 'inter2',\n",
    "       'interaction', 'region', 'country', 'admin1', 'admin2', 'admin3',\n",
    "       'location', 'latitude', 'longitude', 'geo_precision', 'source',\n",
    "       'source_scale', 'notes', 'fatalities', 'timestamp', 'iso3']\n",
    "labels=['Total Schools','Total Students','Total Budget','Average Math Score','Average Reading Score','% Passing Math','% Passing Reading','% Overall Passing Rate']\n",
    "df1=pd.DataFrame(listData,labels).transpose()"
   ]
  }
 ],
 "metadata": {
  "kernelspec": {
   "display_name": "Python 3",
   "language": "python",
   "name": "python3"
  },
  "language_info": {
   "codemirror_mode": {
    "name": "ipython",
    "version": 3
   },
   "file_extension": ".py",
   "mimetype": "text/x-python",
   "name": "python",
   "nbconvert_exporter": "python",
   "pygments_lexer": "ipython3",
   "version": "3.6.9"
  },
  "toc": {
   "base_numbering": 1,
   "nav_menu": {},
   "number_sections": true,
   "sideBar": true,
   "skip_h1_title": false,
   "title_cell": "Table of Contents",
   "title_sidebar": "Contents",
   "toc_cell": false,
   "toc_position": {},
   "toc_section_display": true,
   "toc_window_display": false
  }
 },
 "nbformat": 4,
 "nbformat_minor": 2
}
