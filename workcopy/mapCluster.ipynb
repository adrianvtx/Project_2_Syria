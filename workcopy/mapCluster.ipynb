{
 "cells": [
  {
   "cell_type": "code",
   "execution_count": 1,
   "metadata": {
    "ExecuteTime": {
     "end_time": "2019-10-17T23:17:13.854237Z",
     "start_time": "2019-10-17T23:17:10.353325Z"
    }
   },
   "outputs": [],
   "source": [
    "import os\n",
    "import pandas as pd\n",
    "import requests\n",
    "import json\n",
    "from pprint import pprint"
   ]
  },
  {
   "cell_type": "code",
   "execution_count": 2,
   "metadata": {
    "ExecuteTime": {
     "end_time": "2019-10-17T23:17:19.714279Z",
     "start_time": "2019-10-17T23:17:19.711250Z"
    }
   },
   "outputs": [],
   "source": [
    "# url = \"https://api.acleddata.com/acled/read?terms=accept&page=1&iso=760\"\n",
    "# response = requests.get(url).json()\n",
    "# data = response['data']\n",
    "# df = pd.DataFrame(data)\n",
    "# df"
   ]
  },
  {
   "cell_type": "code",
   "execution_count": 3,
   "metadata": {
    "ExecuteTime": {
     "end_time": "2019-10-17T23:17:22.254941Z",
     "start_time": "2019-10-17T23:17:19.860364Z"
    }
   },
   "outputs": [
    {
     "data": {
      "text/plain": [
       "Index(['data_id', 'iso', 'event_id_cnty', 'event_id_no_cnty', 'event_date',\n",
       "       'year', 'time_precision', 'event_type', 'sub_event_type', 'actor1',\n",
       "       'assoc_actor_1', 'inter1', 'actor2', 'assoc_actor_2', 'inter2',\n",
       "       'interaction', 'region', 'country', 'admin1', 'admin2', 'admin3',\n",
       "       'location', 'latitude', 'longitude', 'geo_precision', 'source',\n",
       "       'source_scale', 'notes', 'fatalities', 'timestamp', 'iso3'],\n",
       "      dtype='object')"
      ]
     },
     "execution_count": 3,
     "metadata": {},
     "output_type": "execute_result"
    }
   ],
   "source": [
    "url1 = \"https://api.acleddata.com/acled/read?terms=accept&page=1&iso=760&actor1=Military Forces of Turkey (2016-):OR:actor1=ypg:OR:actor1=Operation Olive Branch&actor2=ypg:OR:actor2=Military Forces of Turkey (2016-):OR:actor2=Operation Olive Branch&admin1=Al-Hasakeh:OR:admin1=Raqqa:OR:admin1=Deir ez-Zor:OR:admin1=Aleppo\"\n",
    "response1 = requests.get(url1).json()\n",
    "data1 = response1['data']\n",
    "df1 = pd.DataFrame(data1)\n",
    "df1.columns"
   ]
  },
  {
   "cell_type": "code",
   "execution_count": 4,
   "metadata": {
    "ExecuteTime": {
     "end_time": "2019-10-17T23:17:24.577352Z",
     "start_time": "2019-10-17T23:17:22.255937Z"
    }
   },
   "outputs": [
    {
     "data": {
      "text/plain": [
       "Index(['data_id', 'iso', 'event_id_cnty', 'event_id_no_cnty', 'event_date',\n",
       "       'year', 'time_precision', 'event_type', 'sub_event_type', 'actor1',\n",
       "       'assoc_actor_1', 'inter1', 'actor2', 'assoc_actor_2', 'inter2',\n",
       "       'interaction', 'region', 'country', 'admin1', 'admin2', 'admin3',\n",
       "       'location', 'latitude', 'longitude', 'geo_precision', 'source',\n",
       "       'source_scale', 'notes', 'fatalities', 'timestamp', 'iso3'],\n",
       "      dtype='object')"
      ]
     },
     "execution_count": 4,
     "metadata": {},
     "output_type": "execute_result"
    }
   ],
   "source": [
    "url2 = \"https://api.acleddata.com/acled/read?terms=accept&page=2&iso=760&actor1=Military Forces of Turkey (2016-):OR:actor1=ypg:OR:actor1=Operation Olive Branch&actor2=ypg:OR:actor2=Military Forces of Turkey (2016-):OR:actor2=Operation Olive Branch&admin1=Al-Hasakeh:OR:admin1=Raqqa:OR:admin1=Deir ez-Zor:OR:admin1=Aleppo\"\n",
    "response2 = requests.get(url2).json()\n",
    "data2 = response2['data']\n",
    "df2 = pd.DataFrame(data2)\n",
    "df2.columns"
   ]
  },
  {
   "cell_type": "code",
   "execution_count": 5,
   "metadata": {
    "ExecuteTime": {
     "end_time": "2019-10-17T23:17:24.583367Z",
     "start_time": "2019-10-17T23:17:24.578349Z"
    }
   },
   "outputs": [],
   "source": [
    "frames = [df1, df2]\n",
    "syria_df = pd.concat(frames)\n",
    "# syria_df"
   ]
  },
  {
   "cell_type": "code",
   "execution_count": 6,
   "metadata": {
    "ExecuteTime": {
     "end_time": "2019-10-17T23:17:24.595304Z",
     "start_time": "2019-10-17T23:17:24.584333Z"
    }
   },
   "outputs": [
    {
     "data": {
      "text/plain": [
       "array(['Explosions/Remote violence', 'Battles', 'Strategic developments'],\n",
       "      dtype=object)"
      ]
     },
     "execution_count": 6,
     "metadata": {},
     "output_type": "execute_result"
    }
   ],
   "source": [
    "syria_df['event_type'].unique()"
   ]
  },
  {
   "cell_type": "code",
   "execution_count": 7,
   "metadata": {
    "ExecuteTime": {
     "end_time": "2019-10-17T23:17:24.603283Z",
     "start_time": "2019-10-17T23:17:24.597304Z"
    },
    "scrolled": true
   },
   "outputs": [
    {
     "data": {
      "text/plain": [
       "array(['Air/drone strike', 'Armed clash',\n",
       "       'Shelling/artillery/missile attack',\n",
       "       'Non-state actor overtakes territory', 'Change to group/activity',\n",
       "       'Non-violent transfer of territory',\n",
       "       'Remote explosive/landmine/IED', 'Disrupted weapons use',\n",
       "       'Chemical weapon'], dtype=object)"
      ]
     },
     "execution_count": 7,
     "metadata": {},
     "output_type": "execute_result"
    }
   ],
   "source": [
    "syria_df['sub_event_type'].unique()"
   ]
  },
  {
   "cell_type": "code",
   "execution_count": 8,
   "metadata": {
    "ExecuteTime": {
     "end_time": "2019-10-17T23:17:24.612259Z",
     "start_time": "2019-10-17T23:17:24.604280Z"
    }
   },
   "outputs": [
    {
     "data": {
      "text/plain": [
       "111    YPG shelled areas in the vicinity of Afrin cit...\n",
       "Name: notes, dtype: object"
      ]
     },
     "execution_count": 8,
     "metadata": {},
     "output_type": "execute_result"
    }
   ],
   "source": [
    "test = syria_df[syria_df['event_date']==\"2018-06-16\"]\n",
    "test[\"notes\"]"
   ]
  },
  {
   "cell_type": "code",
   "execution_count": 9,
   "metadata": {
    "ExecuteTime": {
     "end_time": "2019-10-17T23:17:24.617275Z",
     "start_time": "2019-10-17T23:17:24.614254Z"
    }
   },
   "outputs": [],
   "source": [
    "# ['data_id', 'iso', 'event_id_cnty', 'event_id_no_cnty', 'event_date',\n",
    "#        'year', 'time_precision', 'event_type', 'sub_event_type', 'actor1',\n",
    "#        'assoc_actor_1', 'inter1', 'actor2', 'assoc_actor_2', 'inter2',\n",
    "#        'interaction', 'region', 'country', 'admin1', 'admin2', 'admin3',\n",
    "#        'location', 'latitude', 'longitude', 'geo_precision', 'source',\n",
    "#        'source_scale', 'notes', 'fatalities', 'timestamp', 'iso3']"
   ]
  },
  {
   "cell_type": "code",
   "execution_count": 10,
   "metadata": {
    "ExecuteTime": {
     "end_time": "2019-10-17T23:17:24.985749Z",
     "start_time": "2019-10-17T23:17:24.619240Z"
    }
   },
   "outputs": [],
   "source": [
    "syria_df.to_csv(\"data.csv\")"
   ]
  },
  {
   "cell_type": "code",
   "execution_count": 11,
   "metadata": {
    "ExecuteTime": {
     "end_time": "2019-10-17T23:17:24.990722Z",
     "start_time": "2019-10-17T23:17:24.986733Z"
    }
   },
   "outputs": [],
   "source": [
    "syria_df1 = syria_df"
   ]
  },
  {
   "cell_type": "code",
   "execution_count": 12,
   "metadata": {
    "ExecuteTime": {
     "end_time": "2019-10-17T23:17:26.072724Z",
     "start_time": "2019-10-17T23:17:26.065739Z"
    }
   },
   "outputs": [],
   "source": [
    "syria_df1 = syria_df[['data_id', 'event_date', 'event_type', 'sub_event_type', 'actor1', 'assoc_actor_1', 'actor2', 'assoc_actor_2', 'admin1', 'admin2', 'admin3', 'location', 'latitude', 'longitude', 'source', 'notes', 'fatalities', 'timestamp']]\n"
   ]
  },
  {
   "cell_type": "code",
   "execution_count": 13,
   "metadata": {
    "ExecuteTime": {
     "end_time": "2019-10-17T23:17:27.194375Z",
     "start_time": "2019-10-17T23:17:27.170416Z"
    }
   },
   "outputs": [
    {
     "data": {
      "text/html": [
       "<div>\n",
       "<style scoped>\n",
       "    .dataframe tbody tr th:only-of-type {\n",
       "        vertical-align: middle;\n",
       "    }\n",
       "\n",
       "    .dataframe tbody tr th {\n",
       "        vertical-align: top;\n",
       "    }\n",
       "\n",
       "    .dataframe thead th {\n",
       "        text-align: right;\n",
       "    }\n",
       "</style>\n",
       "<table border=\"1\" class=\"dataframe\">\n",
       "  <thead>\n",
       "    <tr style=\"text-align: right;\">\n",
       "      <th></th>\n",
       "      <th>data_id</th>\n",
       "      <th>event_date</th>\n",
       "      <th>event_type</th>\n",
       "      <th>sub_event_type</th>\n",
       "      <th>actor1</th>\n",
       "      <th>assoc_actor_1</th>\n",
       "      <th>actor2</th>\n",
       "      <th>assoc_actor_2</th>\n",
       "      <th>admin1</th>\n",
       "      <th>admin2</th>\n",
       "      <th>admin3</th>\n",
       "      <th>location</th>\n",
       "      <th>latitude</th>\n",
       "      <th>longitude</th>\n",
       "      <th>source</th>\n",
       "      <th>notes</th>\n",
       "      <th>fatalities</th>\n",
       "      <th>timestamp</th>\n",
       "    </tr>\n",
       "  </thead>\n",
       "  <tbody>\n",
       "    <tr>\n",
       "      <td>0</td>\n",
       "      <td>6023057</td>\n",
       "      <td>2019-10-10</td>\n",
       "      <td>Explosions/Remote violence</td>\n",
       "      <td>Air/drone strike</td>\n",
       "      <td>Military Forces of Turkey (2016-)</td>\n",
       "      <td></td>\n",
       "      <td>YPG: Peoples Protection Units</td>\n",
       "      <td></td>\n",
       "      <td>Ar-Raqqa</td>\n",
       "      <td>Tell Abiad</td>\n",
       "      <td>Suluk</td>\n",
       "      <td>Hammam al Turkman</td>\n",
       "      <td>36.5272</td>\n",
       "      <td>39.0776</td>\n",
       "      <td>Liveuamap</td>\n",
       "      <td>On 10 October 2019, Turkish warplanes carried ...</td>\n",
       "      <td>0</td>\n",
       "      <td>1571090204</td>\n",
       "    </tr>\n",
       "    <tr>\n",
       "      <td>1</td>\n",
       "      <td>6023249</td>\n",
       "      <td>2019-10-10</td>\n",
       "      <td>Battles</td>\n",
       "      <td>Armed clash</td>\n",
       "      <td>Military Forces of Turkey (2016-)</td>\n",
       "      <td>Islamist Militia (Syria)</td>\n",
       "      <td>YPG: Peoples Protection Units</td>\n",
       "      <td></td>\n",
       "      <td>Aleppo</td>\n",
       "      <td>A'zaz</td>\n",
       "      <td>A'zaz</td>\n",
       "      <td>Maraanaz</td>\n",
       "      <td>36.5511</td>\n",
       "      <td>37.0187</td>\n",
       "      <td>SOHR</td>\n",
       "      <td>On 10 October 2019, Turkish and pro-Turkish Is...</td>\n",
       "      <td>0</td>\n",
       "      <td>1571090204</td>\n",
       "    </tr>\n",
       "    <tr>\n",
       "      <td>2</td>\n",
       "      <td>6049159</td>\n",
       "      <td>2019-10-09</td>\n",
       "      <td>Battles</td>\n",
       "      <td>Armed clash</td>\n",
       "      <td>Military Forces of Turkey (2016-)</td>\n",
       "      <td></td>\n",
       "      <td>YPG: Peoples Protection Units - Anti-Terror Unit</td>\n",
       "      <td></td>\n",
       "      <td>Al-Hasakeh</td>\n",
       "      <td>Ras Al Ain</td>\n",
       "      <td>Darbasiyah</td>\n",
       "      <td>Darbasiyah</td>\n",
       "      <td>37.0700</td>\n",
       "      <td>40.6540</td>\n",
       "      <td>SHAM; Liveuamap</td>\n",
       "      <td>On 09 October, 2019, clashes took place betwee...</td>\n",
       "      <td>0</td>\n",
       "      <td>1571164404</td>\n",
       "    </tr>\n",
       "    <tr>\n",
       "      <td>3</td>\n",
       "      <td>6049179</td>\n",
       "      <td>2019-10-09</td>\n",
       "      <td>Explosions/Remote violence</td>\n",
       "      <td>Air/drone strike</td>\n",
       "      <td>Military Forces of Turkey (2016-)</td>\n",
       "      <td></td>\n",
       "      <td>YPG: Peoples Protection Units - Anti-Terror Unit</td>\n",
       "      <td></td>\n",
       "      <td>Ar-Raqqa</td>\n",
       "      <td>Tell Abiad</td>\n",
       "      <td>Ein Issa</td>\n",
       "      <td>Ein Issa</td>\n",
       "      <td>36.3837</td>\n",
       "      <td>38.8628</td>\n",
       "      <td>Liveuamap; SOHR</td>\n",
       "      <td>On 09 October, 2019, Turkish warplanes carried...</td>\n",
       "      <td>7</td>\n",
       "      <td>1571164404</td>\n",
       "    </tr>\n",
       "    <tr>\n",
       "      <td>4</td>\n",
       "      <td>6023095</td>\n",
       "      <td>2019-10-09</td>\n",
       "      <td>Battles</td>\n",
       "      <td>Armed clash</td>\n",
       "      <td>Military Forces of Turkey (2016-)</td>\n",
       "      <td></td>\n",
       "      <td>YPG: Peoples Protection Units - Anti-Terror Unit</td>\n",
       "      <td></td>\n",
       "      <td>Al-Hasakeh</td>\n",
       "      <td>Quamishli</td>\n",
       "      <td>Quamishli</td>\n",
       "      <td>Quamishli</td>\n",
       "      <td>37.0447</td>\n",
       "      <td>41.2262</td>\n",
       "      <td>SHAM</td>\n",
       "      <td>On 09 October, 2019, clashes took place betwee...</td>\n",
       "      <td>0</td>\n",
       "      <td>1571090204</td>\n",
       "    </tr>\n",
       "    <tr>\n",
       "      <td>...</td>\n",
       "      <td>...</td>\n",
       "      <td>...</td>\n",
       "      <td>...</td>\n",
       "      <td>...</td>\n",
       "      <td>...</td>\n",
       "      <td>...</td>\n",
       "      <td>...</td>\n",
       "      <td>...</td>\n",
       "      <td>...</td>\n",
       "      <td>...</td>\n",
       "      <td>...</td>\n",
       "      <td>...</td>\n",
       "      <td>...</td>\n",
       "      <td>...</td>\n",
       "      <td>...</td>\n",
       "      <td>...</td>\n",
       "      <td>...</td>\n",
       "      <td>...</td>\n",
       "    </tr>\n",
       "    <tr>\n",
       "      <td>159</td>\n",
       "      <td>5842347</td>\n",
       "      <td>2017-01-27</td>\n",
       "      <td>Explosions/Remote violence</td>\n",
       "      <td>Shelling/artillery/missile attack</td>\n",
       "      <td>Military Forces of Turkey (2016-)</td>\n",
       "      <td></td>\n",
       "      <td>YPG: Peoples Protection Units</td>\n",
       "      <td></td>\n",
       "      <td>Al-Hasakeh</td>\n",
       "      <td>Al-Hasakeh</td>\n",
       "      <td>Al-Hasakeh</td>\n",
       "      <td>Al-Hasakeh</td>\n",
       "      <td>36.5054</td>\n",
       "      <td>40.7429</td>\n",
       "      <td>SHAM</td>\n",
       "      <td>Turkish military forces targeted, likely with ...</td>\n",
       "      <td>0</td>\n",
       "      <td>1567462247</td>\n",
       "    </tr>\n",
       "    <tr>\n",
       "      <td>160</td>\n",
       "      <td>5863863</td>\n",
       "      <td>2017-01-19</td>\n",
       "      <td>Explosions/Remote violence</td>\n",
       "      <td>Shelling/artillery/missile attack</td>\n",
       "      <td>Military Forces of Turkey (2016-)</td>\n",
       "      <td></td>\n",
       "      <td>YPG: Peoples Protection Units</td>\n",
       "      <td></td>\n",
       "      <td>Aleppo</td>\n",
       "      <td>Ain Al Arab</td>\n",
       "      <td>Lower Shyookh</td>\n",
       "      <td>Upper Shyookh</td>\n",
       "      <td>36.7858</td>\n",
       "      <td>38.0473</td>\n",
       "      <td>SOHR</td>\n",
       "      <td>Turkish forces targeted, likely with shelling,...</td>\n",
       "      <td>0</td>\n",
       "      <td>1567462275</td>\n",
       "    </tr>\n",
       "    <tr>\n",
       "      <td>161</td>\n",
       "      <td>5851637</td>\n",
       "      <td>2017-01-19</td>\n",
       "      <td>Explosions/Remote violence</td>\n",
       "      <td>Shelling/artillery/missile attack</td>\n",
       "      <td>Military Forces of Turkey (2016-)</td>\n",
       "      <td></td>\n",
       "      <td>YPG: Peoples Protection Units</td>\n",
       "      <td></td>\n",
       "      <td>Aleppo</td>\n",
       "      <td>Ain Al Arab</td>\n",
       "      <td>Ain al Arab</td>\n",
       "      <td>Ain al Arab</td>\n",
       "      <td>36.8891</td>\n",
       "      <td>38.3521</td>\n",
       "      <td>SOHR</td>\n",
       "      <td>Turkish forces targeted, likely with shelling,...</td>\n",
       "      <td>0</td>\n",
       "      <td>1567462258</td>\n",
       "    </tr>\n",
       "    <tr>\n",
       "      <td>162</td>\n",
       "      <td>5842822</td>\n",
       "      <td>2017-01-17</td>\n",
       "      <td>Battles</td>\n",
       "      <td>Armed clash</td>\n",
       "      <td>Military Forces of Turkey (2016-) Gendarmerie</td>\n",
       "      <td></td>\n",
       "      <td>YPG: Peoples Protection Units</td>\n",
       "      <td></td>\n",
       "      <td>Al-Hasakeh</td>\n",
       "      <td>Quamishli</td>\n",
       "      <td>Quamishli</td>\n",
       "      <td>Quamishli</td>\n",
       "      <td>37.0447</td>\n",
       "      <td>41.2262</td>\n",
       "      <td>SHAM</td>\n",
       "      <td>Turkish Gendarmerie killed a number of Kurdish...</td>\n",
       "      <td>10</td>\n",
       "      <td>1567462248</td>\n",
       "    </tr>\n",
       "    <tr>\n",
       "      <td>163</td>\n",
       "      <td>6078819</td>\n",
       "      <td>2017-01-03</td>\n",
       "      <td>Explosions/Remote violence</td>\n",
       "      <td>Shelling/artillery/missile attack</td>\n",
       "      <td>Military Forces of Turkey (2016-)</td>\n",
       "      <td></td>\n",
       "      <td>YPG: Peoples Protection Units</td>\n",
       "      <td></td>\n",
       "      <td>Aleppo</td>\n",
       "      <td>Al Bab</td>\n",
       "      <td>A'rima</td>\n",
       "      <td>A'rima</td>\n",
       "      <td>36.4723</td>\n",
       "      <td>37.7229</td>\n",
       "      <td>Liveuamap</td>\n",
       "      <td>The Turkish army shelled the YPG's positions n...</td>\n",
       "      <td>0</td>\n",
       "      <td>1571164580</td>\n",
       "    </tr>\n",
       "  </tbody>\n",
       "</table>\n",
       "<p>664 rows × 18 columns</p>\n",
       "</div>"
      ],
      "text/plain": [
       "     data_id  event_date                  event_type  \\\n",
       "0    6023057  2019-10-10  Explosions/Remote violence   \n",
       "1    6023249  2019-10-10                     Battles   \n",
       "2    6049159  2019-10-09                     Battles   \n",
       "3    6049179  2019-10-09  Explosions/Remote violence   \n",
       "4    6023095  2019-10-09                     Battles   \n",
       "..       ...         ...                         ...   \n",
       "159  5842347  2017-01-27  Explosions/Remote violence   \n",
       "160  5863863  2017-01-19  Explosions/Remote violence   \n",
       "161  5851637  2017-01-19  Explosions/Remote violence   \n",
       "162  5842822  2017-01-17                     Battles   \n",
       "163  6078819  2017-01-03  Explosions/Remote violence   \n",
       "\n",
       "                        sub_event_type  \\\n",
       "0                     Air/drone strike   \n",
       "1                          Armed clash   \n",
       "2                          Armed clash   \n",
       "3                     Air/drone strike   \n",
       "4                          Armed clash   \n",
       "..                                 ...   \n",
       "159  Shelling/artillery/missile attack   \n",
       "160  Shelling/artillery/missile attack   \n",
       "161  Shelling/artillery/missile attack   \n",
       "162                        Armed clash   \n",
       "163  Shelling/artillery/missile attack   \n",
       "\n",
       "                                            actor1             assoc_actor_1  \\\n",
       "0                Military Forces of Turkey (2016-)                             \n",
       "1                Military Forces of Turkey (2016-)  Islamist Militia (Syria)   \n",
       "2                Military Forces of Turkey (2016-)                             \n",
       "3                Military Forces of Turkey (2016-)                             \n",
       "4                Military Forces of Turkey (2016-)                             \n",
       "..                                             ...                       ...   \n",
       "159              Military Forces of Turkey (2016-)                             \n",
       "160              Military Forces of Turkey (2016-)                             \n",
       "161              Military Forces of Turkey (2016-)                             \n",
       "162  Military Forces of Turkey (2016-) Gendarmerie                             \n",
       "163              Military Forces of Turkey (2016-)                             \n",
       "\n",
       "                                               actor2 assoc_actor_2  \\\n",
       "0                       YPG: Peoples Protection Units                 \n",
       "1                       YPG: Peoples Protection Units                 \n",
       "2    YPG: Peoples Protection Units - Anti-Terror Unit                 \n",
       "3    YPG: Peoples Protection Units - Anti-Terror Unit                 \n",
       "4    YPG: Peoples Protection Units - Anti-Terror Unit                 \n",
       "..                                                ...           ...   \n",
       "159                     YPG: Peoples Protection Units                 \n",
       "160                     YPG: Peoples Protection Units                 \n",
       "161                     YPG: Peoples Protection Units                 \n",
       "162                     YPG: Peoples Protection Units                 \n",
       "163                     YPG: Peoples Protection Units                 \n",
       "\n",
       "         admin1       admin2         admin3           location latitude  \\\n",
       "0      Ar-Raqqa   Tell Abiad          Suluk  Hammam al Turkman  36.5272   \n",
       "1        Aleppo        A'zaz          A'zaz           Maraanaz  36.5511   \n",
       "2    Al-Hasakeh   Ras Al Ain     Darbasiyah         Darbasiyah  37.0700   \n",
       "3      Ar-Raqqa   Tell Abiad       Ein Issa           Ein Issa  36.3837   \n",
       "4    Al-Hasakeh    Quamishli      Quamishli          Quamishli  37.0447   \n",
       "..          ...          ...            ...                ...      ...   \n",
       "159  Al-Hasakeh   Al-Hasakeh     Al-Hasakeh         Al-Hasakeh  36.5054   \n",
       "160      Aleppo  Ain Al Arab  Lower Shyookh      Upper Shyookh  36.7858   \n",
       "161      Aleppo  Ain Al Arab    Ain al Arab        Ain al Arab  36.8891   \n",
       "162  Al-Hasakeh    Quamishli      Quamishli          Quamishli  37.0447   \n",
       "163      Aleppo       Al Bab         A'rima             A'rima  36.4723   \n",
       "\n",
       "    longitude           source  \\\n",
       "0     39.0776        Liveuamap   \n",
       "1     37.0187             SOHR   \n",
       "2     40.6540  SHAM; Liveuamap   \n",
       "3     38.8628  Liveuamap; SOHR   \n",
       "4     41.2262             SHAM   \n",
       "..        ...              ...   \n",
       "159   40.7429             SHAM   \n",
       "160   38.0473             SOHR   \n",
       "161   38.3521             SOHR   \n",
       "162   41.2262             SHAM   \n",
       "163   37.7229        Liveuamap   \n",
       "\n",
       "                                                 notes fatalities   timestamp  \n",
       "0    On 10 October 2019, Turkish warplanes carried ...          0  1571090204  \n",
       "1    On 10 October 2019, Turkish and pro-Turkish Is...          0  1571090204  \n",
       "2    On 09 October, 2019, clashes took place betwee...          0  1571164404  \n",
       "3    On 09 October, 2019, Turkish warplanes carried...          7  1571164404  \n",
       "4    On 09 October, 2019, clashes took place betwee...          0  1571090204  \n",
       "..                                                 ...        ...         ...  \n",
       "159  Turkish military forces targeted, likely with ...          0  1567462247  \n",
       "160  Turkish forces targeted, likely with shelling,...          0  1567462275  \n",
       "161  Turkish forces targeted, likely with shelling,...          0  1567462258  \n",
       "162  Turkish Gendarmerie killed a number of Kurdish...         10  1567462248  \n",
       "163  The Turkish army shelled the YPG's positions n...          0  1571164580  \n",
       "\n",
       "[664 rows x 18 columns]"
      ]
     },
     "execution_count": 13,
     "metadata": {},
     "output_type": "execute_result"
    }
   ],
   "source": [
    "syria_df1"
   ]
  },
  {
   "cell_type": "code",
   "execution_count": 14,
   "metadata": {
    "ExecuteTime": {
     "end_time": "2019-10-17T23:17:34.696063Z",
     "start_time": "2019-10-17T23:17:34.684098Z"
    }
   },
   "outputs": [],
   "source": [
    "syria_df1.to_csv(\"data1.csv\")"
   ]
  },
  {
   "cell_type": "code",
   "execution_count": 15,
   "metadata": {
    "ExecuteTime": {
     "end_time": "2019-10-17T23:17:36.845263Z",
     "start_time": "2019-10-17T23:17:36.842275Z"
    }
   },
   "outputs": [],
   "source": [
    "# df['latitude']=df.column.astype('float')"
   ]
  },
  {
   "cell_type": "code",
   "execution_count": 16,
   "metadata": {
    "ExecuteTime": {
     "end_time": "2019-10-17T23:17:37.012551Z",
     "start_time": "2019-10-17T23:17:37.000552Z"
    }
   },
   "outputs": [
    {
     "name": "stderr",
     "output_type": "stream",
     "text": [
      "C:\\Users\\adria\\Anaconda3\\envs\\PythonData\\lib\\site-packages\\ipykernel_launcher.py:1: SettingWithCopyWarning: \n",
      "A value is trying to be set on a copy of a slice from a DataFrame.\n",
      "Try using .loc[row_indexer,col_indexer] = value instead\n",
      "\n",
      "See the caveats in the documentation: http://pandas.pydata.org/pandas-docs/stable/user_guide/indexing.html#returning-a-view-versus-a-copy\n",
      "  \"\"\"Entry point for launching an IPython kernel.\n"
     ]
    }
   ],
   "source": [
    "syria_df1['latitude']=syria_df1.latitude.astype(\"float\")"
   ]
  },
  {
   "cell_type": "code",
   "execution_count": 17,
   "metadata": {
    "ExecuteTime": {
     "end_time": "2019-10-17T23:17:37.138030Z",
     "start_time": "2019-10-17T23:17:37.135007Z"
    }
   },
   "outputs": [],
   "source": [
    "latitude = syria_df1['latitude']"
   ]
  },
  {
   "cell_type": "code",
   "execution_count": 18,
   "metadata": {
    "ExecuteTime": {
     "end_time": "2019-10-17T23:17:37.613822Z",
     "start_time": "2019-10-17T23:17:37.607839Z"
    }
   },
   "outputs": [
    {
     "name": "stderr",
     "output_type": "stream",
     "text": [
      "C:\\Users\\adria\\Anaconda3\\envs\\PythonData\\lib\\site-packages\\ipykernel_launcher.py:1: SettingWithCopyWarning: \n",
      "A value is trying to be set on a copy of a slice from a DataFrame.\n",
      "Try using .loc[row_indexer,col_indexer] = value instead\n",
      "\n",
      "See the caveats in the documentation: http://pandas.pydata.org/pandas-docs/stable/user_guide/indexing.html#returning-a-view-versus-a-copy\n",
      "  \"\"\"Entry point for launching an IPython kernel.\n"
     ]
    }
   ],
   "source": [
    "syria_df1['longitude']=syria_df1.longitude.astype(\"float\")"
   ]
  },
  {
   "cell_type": "code",
   "execution_count": 19,
   "metadata": {
    "ExecuteTime": {
     "end_time": "2019-10-17T23:17:37.740679Z",
     "start_time": "2019-10-17T23:17:37.737689Z"
    }
   },
   "outputs": [],
   "source": [
    "longitude = syria_df1['longitude']"
   ]
  },
  {
   "cell_type": "code",
   "execution_count": 20,
   "metadata": {
    "ExecuteTime": {
     "end_time": "2019-10-17T23:17:37.877294Z",
     "start_time": "2019-10-17T23:17:37.872274Z"
    }
   },
   "outputs": [
    {
     "data": {
      "text/plain": [
       "0      36.5272\n",
       "1      36.5511\n",
       "2      37.0700\n",
       "3      36.3837\n",
       "4      37.0447\n",
       "        ...   \n",
       "159    36.5054\n",
       "160    36.7858\n",
       "161    36.8891\n",
       "162    37.0447\n",
       "163    36.4723\n",
       "Name: latitude, Length: 664, dtype: float64"
      ]
     },
     "execution_count": 20,
     "metadata": {},
     "output_type": "execute_result"
    }
   ],
   "source": [
    "latitude"
   ]
  },
  {
   "cell_type": "code",
   "execution_count": 21,
   "metadata": {
    "ExecuteTime": {
     "end_time": "2019-10-17T23:17:38.370550Z",
     "start_time": "2019-10-17T23:17:38.366562Z"
    }
   },
   "outputs": [],
   "source": [
    "lat_lngs = []\n",
    "lat_lngs = zip(latitude, longitude)"
   ]
  },
  {
   "cell_type": "code",
   "execution_count": 22,
   "metadata": {
    "ExecuteTime": {
     "end_time": "2019-10-17T23:17:38.966437Z",
     "start_time": "2019-10-17T23:17:38.961449Z"
    }
   },
   "outputs": [
    {
     "data": {
      "text/plain": [
       "<zip at 0x1e532c9be08>"
      ]
     },
     "execution_count": 22,
     "metadata": {},
     "output_type": "execute_result"
    }
   ],
   "source": [
    "lat_lngs"
   ]
  },
  {
   "cell_type": "code",
   "execution_count": 23,
   "metadata": {
    "ExecuteTime": {
     "end_time": "2019-10-17T23:17:39.119107Z",
     "start_time": "2019-10-17T23:17:39.117116Z"
    }
   },
   "outputs": [],
   "source": [
    "# lat = ()\n",
    "# lng = (lat_lng[0], lat_lng[1])\n",
    "# lat_lngs = []\n",
    "# for lat_lng in lat_lngs:\n",
    "#     locations = (lat_lng[0], lat_lng[1])\n",
    "#     lng = (lat_lng[0], lat_lng[1])"
   ]
  },
  {
   "cell_type": "code",
   "execution_count": 24,
   "metadata": {
    "ExecuteTime": {
     "end_time": "2019-10-17T23:17:39.994489Z",
     "start_time": "2019-10-17T23:17:39.589583Z"
    }
   },
   "outputs": [
    {
     "name": "stdout",
     "output_type": "stream",
     "text": [
      "0.10.0\n"
     ]
    }
   ],
   "source": [
    "\n",
    "import folium\n",
    "\n",
    "print(folium.__version__)"
   ]
  },
  {
   "cell_type": "code",
   "execution_count": 51,
   "metadata": {
    "ExecuteTime": {
     "end_time": "2019-10-17T23:40:17.356657Z",
     "start_time": "2019-10-17T23:40:17.328719Z"
    },
    "scrolled": true
   },
   "outputs": [
    {
     "data": {
      "text/html": [
       "<div style=\"width:100%;\"><div style=\"position:relative;width:100%;height:0;padding-bottom:60%;\"><iframe src=\"data:text/html;charset=utf-8;base64,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\" style=\"position:absolute;width:100%;height:100%;left:0;top:0;border:none !important;\" allowfullscreen webkitallowfullscreen mozallowfullscreen></iframe></div></div>"
      ],
      "text/plain": [
       "<folium.folium.Map at 0x1e5352a20b8>"
      ]
     },
     "execution_count": 51,
     "metadata": {},
     "output_type": "execute_result"
    }
   ],
   "source": [
    "from folium.plugins import MarkerCluster\n",
    "\n",
    "\n",
    "m = folium.Map(location=[36, 36], zoom_start=5)\n",
    "\n",
    "marker_cluster = MarkerCluster().add_to(m)\n",
    "\n",
    "\n",
    "folium.Marker(\n",
    "    location=[36.5, 36.4],\n",
    "    popup= syria_df1['event_type'],\n",
    "    icon=folium.Icon(color='green', icon='ok-sign'),\n",
    ").add_to(marker_cluster)\n",
    "\n",
    "folium.Marker(\n",
    "    location=[37.5, 37.4],\n",
    "    popup='Add popup text here.',\n",
    "    icon=folium.Icon(color='red', icon='remove-sign'),\n",
    ").add_to(marker_cluster)\n",
    "\n",
    "folium.Marker(\n",
    "    location=[36.9, 36.1],\n",
    "    popup='Add popup text here.',\n",
    "    icon=None,\n",
    ").add_to(marker_cluster)\n",
    "\n",
    "m.save(os.path.join('results', '1000_MarkerCluster0.html'))\n",
    "\n",
    "m"
   ]
  },
  {
   "cell_type": "code",
   "execution_count": 53,
   "metadata": {
    "ExecuteTime": {
     "end_time": "2019-10-17T23:40:46.046967Z",
     "start_time": "2019-10-17T23:40:46.042977Z"
    }
   },
   "outputs": [],
   "source": [
    "import numpy as np\n",
    "\n",
    "size = 664\n",
    "lons = longitude\n",
    "lats = latitude\n",
    "\n",
    "locations = list(zip(latitude, longitude))\n",
    "popups = syria_df1['event_type'] #['<br>lon:{}<br>lat:{}'.format(lon, lat) for (lat, lon) in locations]"
   ]
  },
  {
   "cell_type": "code",
   "execution_count": 54,
   "metadata": {
    "ExecuteTime": {
     "end_time": "2019-10-17T23:40:48.272253Z",
     "start_time": "2019-10-17T23:40:48.268229Z"
    }
   },
   "outputs": [],
   "source": [
    "icon_create_function = \"\"\"\\\n",
    "function(cluster) {\n",
    "    return L.divIcon({\n",
    "    html: '<b>' + cluster.getChildCount() + '</b>',\n",
    "    className: 'marker-cluster marker-cluster-large',\n",
    "    iconSize: new L.Point(20, 20)\n",
    "    });\n",
    "}\"\"\""
   ]
  },
  {
   "cell_type": "code",
   "execution_count": 58,
   "metadata": {
    "ExecuteTime": {
     "end_time": "2019-10-17T23:42:20.384912Z",
     "start_time": "2019-10-17T23:42:20.366924Z"
    }
   },
   "outputs": [
    {
     "ename": "ValueError",
     "evalue": "The truth value of a Series is ambiguous. Use a.empty, a.bool(), a.item(), a.any() or a.all().",
     "output_type": "error",
     "traceback": [
      "\u001b[1;31m---------------------------------------------------------------------------\u001b[0m",
      "\u001b[1;31mValueError\u001b[0m                                Traceback (most recent call last)",
      "\u001b[1;32m<ipython-input-58-99cfb6875f91>\u001b[0m in \u001b[0;36m<module>\u001b[1;34m\u001b[0m\n\u001b[0;32m     13\u001b[0m     \u001b[0moverlay\u001b[0m\u001b[1;33m=\u001b[0m\u001b[1;32mTrue\u001b[0m\u001b[1;33m,\u001b[0m\u001b[1;33m\u001b[0m\u001b[1;33m\u001b[0m\u001b[0m\n\u001b[0;32m     14\u001b[0m     \u001b[0mcontrol\u001b[0m\u001b[1;33m=\u001b[0m\u001b[1;32mTrue\u001b[0m\u001b[1;33m,\u001b[0m\u001b[1;33m\u001b[0m\u001b[1;33m\u001b[0m\u001b[0m\n\u001b[1;32m---> 15\u001b[1;33m     \u001b[0micon_create_function\u001b[0m\u001b[1;33m=\u001b[0m\u001b[0micon_create_function\u001b[0m\u001b[1;33m\u001b[0m\u001b[1;33m\u001b[0m\u001b[0m\n\u001b[0m\u001b[0;32m     16\u001b[0m )\n\u001b[0;32m     17\u001b[0m \u001b[1;33m\u001b[0m\u001b[0m\n",
      "\u001b[1;32m~\\Anaconda3\\envs\\PythonData\\lib\\site-packages\\folium\\plugins\\marker_cluster.py\u001b[0m in \u001b[0;36m__init__\u001b[1;34m(self, locations, popups, icons, name, overlay, control, show, icon_create_function, options, **kwargs)\u001b[0m\n\u001b[0;32m     73\u001b[0m             \u001b[1;32mfor\u001b[0m \u001b[0mi\u001b[0m\u001b[1;33m,\u001b[0m \u001b[0mlocation\u001b[0m \u001b[1;32min\u001b[0m \u001b[0menumerate\u001b[0m\u001b[1;33m(\u001b[0m\u001b[0mlocations\u001b[0m\u001b[1;33m)\u001b[0m\u001b[1;33m:\u001b[0m\u001b[1;33m\u001b[0m\u001b[1;33m\u001b[0m\u001b[0m\n\u001b[0;32m     74\u001b[0m                 self.add_child(Marker(location,\n\u001b[1;32m---> 75\u001b[1;33m                                       \u001b[0mpopup\u001b[0m\u001b[1;33m=\u001b[0m\u001b[0mpopups\u001b[0m \u001b[1;32mand\u001b[0m \u001b[0mpopups\u001b[0m\u001b[1;33m[\u001b[0m\u001b[0mi\u001b[0m\u001b[1;33m]\u001b[0m\u001b[1;33m,\u001b[0m\u001b[1;33m\u001b[0m\u001b[1;33m\u001b[0m\u001b[0m\n\u001b[0m\u001b[0;32m     76\u001b[0m                                       icon=icons and icons[i]))\n\u001b[0;32m     77\u001b[0m \u001b[1;33m\u001b[0m\u001b[0m\n",
      "\u001b[1;32m~\\Anaconda3\\envs\\PythonData\\lib\\site-packages\\pandas\\core\\generic.py\u001b[0m in \u001b[0;36m__nonzero__\u001b[1;34m(self)\u001b[0m\n\u001b[0;32m   1553\u001b[0m             \u001b[1;34m\"The truth value of a {0} is ambiguous. \"\u001b[0m\u001b[1;33m\u001b[0m\u001b[1;33m\u001b[0m\u001b[0m\n\u001b[0;32m   1554\u001b[0m             \"Use a.empty, a.bool(), a.item(), a.any() or a.all().\".format(\n\u001b[1;32m-> 1555\u001b[1;33m                 \u001b[0mself\u001b[0m\u001b[1;33m.\u001b[0m\u001b[0m__class__\u001b[0m\u001b[1;33m.\u001b[0m\u001b[0m__name__\u001b[0m\u001b[1;33m\u001b[0m\u001b[1;33m\u001b[0m\u001b[0m\n\u001b[0m\u001b[0;32m   1556\u001b[0m             )\n\u001b[0;32m   1557\u001b[0m         )\n",
      "\u001b[1;31mValueError\u001b[0m: The truth value of a Series is ambiguous. Use a.empty, a.bool(), a.item(), a.any() or a.all()."
     ]
    }
   ],
   "source": [
    "from folium.plugins import MarkerCluster\n",
    "\n",
    "\n",
    "m = folium.Map(\n",
    "    location=[np.mean(lats), np.mean(lons)],\n",
    "    tiles='Cartodb Positron',\n",
    "    zoom_start=1\n",
    ")\n",
    "\n",
    "marker_cluster = MarkerCluster(\n",
    "    locations=locations, popups=popups,\n",
    "    name='1000 clustered icons',\n",
    "    overlay=True,\n",
    "    control=True,\n",
    "    icon_create_function=icon_create_function\n",
    ")\n",
    "\n",
    "marker_cluster.add_to(m)\n",
    "\n",
    "folium.LayerControl().add_to(m)\n",
    "\n",
    "m.save(os.path.join('results', '1000_MarkerCluster1.html'))\n",
    "\n",
    "m"
   ]
  },
  {
   "cell_type": "code",
   "execution_count": 49,
   "metadata": {
    "ExecuteTime": {
     "end_time": "2019-10-17T23:35:57.261764Z",
     "start_time": "2019-10-17T23:35:57.255085Z"
    },
    "scrolled": true
   },
   "outputs": [
    {
     "data": {
      "text/plain": [
       "<bound method NDFrame.describe of 0      36.5272\n",
       "1      36.5511\n",
       "2      37.0700\n",
       "3      36.3837\n",
       "4      37.0447\n",
       "        ...   \n",
       "159    36.5054\n",
       "160    36.7858\n",
       "161    36.8891\n",
       "162    37.0447\n",
       "163    36.4723\n",
       "Name: latitude, Length: 664, dtype: float64>"
      ]
     },
     "execution_count": 49,
     "metadata": {},
     "output_type": "execute_result"
    }
   ],
   "source": [
    "lats.describe"
   ]
  },
  {
   "cell_type": "code",
   "execution_count": 30,
   "metadata": {
    "ExecuteTime": {
     "end_time": "2019-10-17T23:19:06.918429Z",
     "start_time": "2019-10-17T23:19:06.914439Z"
    }
   },
   "outputs": [
    {
     "data": {
      "text/plain": [
       "664"
      ]
     },
     "execution_count": 30,
     "metadata": {},
     "output_type": "execute_result"
    }
   ],
   "source": [
    "size"
   ]
  },
  {
   "cell_type": "code",
   "execution_count": 61,
   "metadata": {
    "ExecuteTime": {
     "end_time": "2019-10-17T23:47:59.727241Z",
     "start_time": "2019-10-17T23:47:59.714283Z"
    }
   },
   "outputs": [
    {
     "ename": "TypeError",
     "evalue": "'int' object is not iterable",
     "output_type": "error",
     "traceback": [
      "\u001b[1;31m---------------------------------------------------------------------------\u001b[0m",
      "\u001b[1;31mTypeError\u001b[0m                                 Traceback (most recent call last)",
      "\u001b[1;32m<timed exec>\u001b[0m in \u001b[0;36m<module>\u001b[1;34m\u001b[0m\n",
      "\u001b[1;31mTypeError\u001b[0m: 'int' object is not iterable"
     ]
    }
   ],
   "source": [
    "%%time\n",
    "\n",
    "m = folium.Map(\n",
    "    location=[np.mean(lats), np.mean(lons)],\n",
    "    tiles='Cartodb Positron',\n",
    "    zoom_start=1\n",
    ")\n",
    "\n",
    "marker_cluster = MarkerCluster(\n",
    "    name='1000 clustered icons',\n",
    "    overlay=True,\n",
    "    control=False,\n",
    "    icon_create_function=None\n",
    ")\n",
    "\n",
    "for lat, lon in range(syria1):\n",
    "    location = lat, lon\n",
    "    marker = folium.Marker(location=location)\n",
    "    popup = syria_df1['event_type']\n",
    "    folium.Popup(popup).add_to(marker)\n",
    "    marker_cluster.add_child(marker)\n",
    "\n",
    "marker_cluster.add_to(m)\n",
    "\n",
    "folium.LayerControl().add_to(m)"
   ]
  },
  {
   "cell_type": "code",
   "execution_count": 33,
   "metadata": {
    "ExecuteTime": {
     "end_time": "2019-10-17T23:19:56.205748Z",
     "start_time": "2019-10-17T23:19:56.194775Z"
    },
    "scrolled": true
   },
   "outputs": [
    {
     "data": {
      "text/html": [
       "<div style=\"width:100%;\"><div style=\"position:relative;width:100%;height:0;padding-bottom:60%;\"><iframe src=\"data:text/html;charset=utf-8;base64,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\" style=\"position:absolute;width:100%;height:100%;left:0;top:0;border:none !important;\" allowfullscreen webkitallowfullscreen mozallowfullscreen></iframe></div></div>"
      ],
      "text/plain": [
       "<folium.folium.Map at 0x1e534c4feb8>"
      ]
     },
     "execution_count": 33,
     "metadata": {},
     "output_type": "execute_result"
    }
   ],
   "source": [
    "m.save(os.path.join('results', '1000_MarkerCluster2.html'))\n",
    "\n",
    "m"
   ]
  },
  {
   "cell_type": "code",
   "execution_count": 37,
   "metadata": {
    "ExecuteTime": {
     "end_time": "2019-10-17T21:33:18.943740Z",
     "start_time": "2019-10-17T21:33:18.940715Z"
    }
   },
   "outputs": [],
   "source": [
    "from folium.plugins import FastMarkerCluster"
   ]
  },
  {
   "cell_type": "code",
   "execution_count": 38,
   "metadata": {
    "ExecuteTime": {
     "end_time": "2019-10-17T21:33:19.815983Z",
     "start_time": "2019-10-17T21:33:19.804017Z"
    }
   },
   "outputs": [
    {
     "name": "stdout",
     "output_type": "stream",
     "text": [
      "Wall time: 5.95 ms\n"
     ]
    },
    {
     "data": {
      "text/plain": [
       "<folium.map.LayerControl at 0x25a9c5b47f0>"
      ]
     },
     "execution_count": 38,
     "metadata": {},
     "output_type": "execute_result"
    }
   ],
   "source": [
    "%%time\n",
    "\n",
    "\n",
    "m = folium.Map(\n",
    "    location=[np.mean(lats), np.mean(lons)],\n",
    "    tiles='Cartodb Positron',\n",
    "    zoom_start=1\n",
    ")\n",
    "\n",
    "FastMarkerCluster(data=list(zip(lats, lons))).add_to(m)\n",
    "\n",
    "folium.LayerControl().add_to(m)"
   ]
  },
  {
   "cell_type": "code",
   "execution_count": 39,
   "metadata": {
    "ExecuteTime": {
     "end_time": "2019-10-17T21:33:26.234741Z",
     "start_time": "2019-10-17T21:33:26.214794Z"
    }
   },
   "outputs": [
    {
     "data": {
      "text/html": [
       "<div style=\"width:100%;\"><div style=\"position:relative;width:100%;height:0;padding-bottom:60%;\"><iframe src=\"data:text/html;charset=utf-8;base64,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\" style=\"position:absolute;width:100%;height:100%;left:0;top:0;border:none !important;\" allowfullscreen webkitallowfullscreen mozallowfullscreen></iframe></div></div>"
      ],
      "text/plain": [
       "<folium.folium.Map at 0x25a9c69f828>"
      ]
     },
     "execution_count": 39,
     "metadata": {},
     "output_type": "execute_result"
    }
   ],
   "source": [
    "m.save(os.path.join('results', '1000_MarkerCluster3.html'))\n",
    "\n",
    "m"
   ]
  },
  {
   "cell_type": "code",
   "execution_count": 40,
   "metadata": {
    "ExecuteTime": {
     "end_time": "2019-10-17T21:33:42.531646Z",
     "start_time": "2019-10-17T21:33:42.500726Z"
    }
   },
   "outputs": [
    {
     "data": {
      "text/html": [
       "<div style=\"width:100%;\"><div style=\"position:relative;width:100%;height:0;padding-bottom:60%;\"><iframe src=\"data:text/html;charset=utf-8;base64,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\" style=\"position:absolute;width:100%;height:100%;left:0;top:0;border:none !important;\" allowfullscreen webkitallowfullscreen mozallowfullscreen></iframe></div></div>"
      ],
      "text/plain": [
       "<folium.folium.Map at 0x25a9c6c04a8>"
      ]
     },
     "execution_count": 40,
     "metadata": {},
     "output_type": "execute_result"
    }
   ],
   "source": [
    "callback = \"\"\"\\\n",
    "function (row) {\n",
    "    var icon, marker;\n",
    "    icon = L.AwesomeMarkers.icon({\n",
    "        icon: \"map-marker\", markerColor: \"red\"});\n",
    "    marker = L.marker(new L.LatLng(row[0], row[1]));\n",
    "    marker.setIcon(icon);\n",
    "    return marker;\n",
    "};\n",
    "\"\"\"\n",
    "m = folium.Map(\n",
    "    location=[np.mean(lats), np.mean(lons)],\n",
    "    tiles='Cartodb Positron',\n",
    "    zoom_start=1\n",
    ")\n",
    "\n",
    "FastMarkerCluster(\n",
    "    data=list(zip(lats, lons)),\n",
    "    callback=callback\n",
    ").add_to(m)\n",
    "\n",
    "\n",
    "m.save(os.path.join('results', '1000_MarkerCluster4.html'))\n",
    "\n",
    "m"
   ]
  },
  {
   "cell_type": "code",
   "execution_count": null,
   "metadata": {},
   "outputs": [],
   "source": []
  },
  {
   "cell_type": "code",
   "execution_count": null,
   "metadata": {},
   "outputs": [],
   "source": []
  },
  {
   "cell_type": "code",
   "execution_count": null,
   "metadata": {},
   "outputs": [],
   "source": []
  }
 ],
 "metadata": {
  "kernelspec": {
   "display_name": "Python 3",
   "language": "python",
   "name": "python3"
  },
  "language_info": {
   "codemirror_mode": {
    "name": "ipython",
    "version": 3
   },
   "file_extension": ".py",
   "mimetype": "text/x-python",
   "name": "python",
   "nbconvert_exporter": "python",
   "pygments_lexer": "ipython3",
   "version": "3.6.9"
  },
  "toc": {
   "base_numbering": 1,
   "nav_menu": {},
   "number_sections": true,
   "sideBar": true,
   "skip_h1_title": false,
   "title_cell": "Table of Contents",
   "title_sidebar": "Contents",
   "toc_cell": false,
   "toc_position": {},
   "toc_section_display": true,
   "toc_window_display": false
  }
 },
 "nbformat": 4,
 "nbformat_minor": 2
}
