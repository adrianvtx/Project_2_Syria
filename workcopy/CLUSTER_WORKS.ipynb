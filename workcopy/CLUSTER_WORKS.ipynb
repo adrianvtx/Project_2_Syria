{
 "cells": [
  {
   "cell_type": "code",
   "execution_count": 1,
   "metadata": {
    "ExecuteTime": {
     "end_time": "2019-10-19T07:02:14.857153Z",
     "start_time": "2019-10-19T07:02:14.268791Z"
    }
   },
   "outputs": [],
   "source": [
    "import os\n",
    "import pandas as pd\n",
    "import requests\n",
    "import json\n",
    "from pprint import pprint"
   ]
  },
  {
   "cell_type": "code",
   "execution_count": 2,
   "metadata": {
    "ExecuteTime": {
     "end_time": "2019-10-18T17:04:47.357732Z",
     "start_time": "2019-10-18T17:04:37.472901Z"
    },
    "deletable": false,
    "editable": false,
    "run_control": {
     "frozen": true
    }
   },
   "outputs": [
    {
     "data": {
      "text/html": [
       "<div>\n",
       "<style scoped>\n",
       "    .dataframe tbody tr th:only-of-type {\n",
       "        vertical-align: middle;\n",
       "    }\n",
       "\n",
       "    .dataframe tbody tr th {\n",
       "        vertical-align: top;\n",
       "    }\n",
       "\n",
       "    .dataframe thead th {\n",
       "        text-align: right;\n",
       "    }\n",
       "</style>\n",
       "<table border=\"1\" class=\"dataframe\">\n",
       "  <thead>\n",
       "    <tr style=\"text-align: right;\">\n",
       "      <th></th>\n",
       "      <th>data_id</th>\n",
       "      <th>iso</th>\n",
       "      <th>event_id_cnty</th>\n",
       "      <th>event_id_no_cnty</th>\n",
       "      <th>event_date</th>\n",
       "      <th>year</th>\n",
       "      <th>time_precision</th>\n",
       "      <th>event_type</th>\n",
       "      <th>sub_event_type</th>\n",
       "      <th>actor1</th>\n",
       "      <th>...</th>\n",
       "      <th>location</th>\n",
       "      <th>latitude</th>\n",
       "      <th>longitude</th>\n",
       "      <th>geo_precision</th>\n",
       "      <th>source</th>\n",
       "      <th>source_scale</th>\n",
       "      <th>notes</th>\n",
       "      <th>fatalities</th>\n",
       "      <th>timestamp</th>\n",
       "      <th>iso3</th>\n",
       "    </tr>\n",
       "  </thead>\n",
       "  <tbody>\n",
       "    <tr>\n",
       "      <td>0</td>\n",
       "      <td>6049110</td>\n",
       "      <td>760</td>\n",
       "      <td>SYR68225</td>\n",
       "      <td>68225</td>\n",
       "      <td>2019-10-12</td>\n",
       "      <td>2019</td>\n",
       "      <td>1</td>\n",
       "      <td>Explosions/Remote violence</td>\n",
       "      <td>Shelling/artillery/missile attack</td>\n",
       "      <td>Military Forces of Syria (2000-)</td>\n",
       "      <td>...</td>\n",
       "      <td>Jisr-Ash-Shugur</td>\n",
       "      <td>35.8143</td>\n",
       "      <td>36.3206</td>\n",
       "      <td>1</td>\n",
       "      <td>SOHR; Liveuamap</td>\n",
       "      <td>Local partner-New media</td>\n",
       "      <td>On 12 October 2019, regime ground forces shell...</td>\n",
       "      <td>0</td>\n",
       "      <td>1571164404</td>\n",
       "      <td>SYR</td>\n",
       "    </tr>\n",
       "    <tr>\n",
       "      <td>1</td>\n",
       "      <td>6049111</td>\n",
       "      <td>760</td>\n",
       "      <td>SYR68226</td>\n",
       "      <td>68226</td>\n",
       "      <td>2019-10-12</td>\n",
       "      <td>2019</td>\n",
       "      <td>1</td>\n",
       "      <td>Explosions/Remote violence</td>\n",
       "      <td>Shelling/artillery/missile attack</td>\n",
       "      <td>Military Forces of Syria (2000-)</td>\n",
       "      <td>...</td>\n",
       "      <td>Kafrsajna</td>\n",
       "      <td>35.5271</td>\n",
       "      <td>36.5896</td>\n",
       "      <td>1</td>\n",
       "      <td>Liveuamap; SOHR</td>\n",
       "      <td>Local partner-New media</td>\n",
       "      <td>On 12 October 2019, regime ground forces shell...</td>\n",
       "      <td>0</td>\n",
       "      <td>1571164404</td>\n",
       "      <td>SYR</td>\n",
       "    </tr>\n",
       "    <tr>\n",
       "      <td>2</td>\n",
       "      <td>6049112</td>\n",
       "      <td>760</td>\n",
       "      <td>SYR68228</td>\n",
       "      <td>68228</td>\n",
       "      <td>2019-10-12</td>\n",
       "      <td>2019</td>\n",
       "      <td>1</td>\n",
       "      <td>Explosions/Remote violence</td>\n",
       "      <td>Shelling/artillery/missile attack</td>\n",
       "      <td>Military Forces of Syria (2000-)</td>\n",
       "      <td>...</td>\n",
       "      <td>Maaret Harma</td>\n",
       "      <td>35.5458</td>\n",
       "      <td>36.5442</td>\n",
       "      <td>1</td>\n",
       "      <td>Liveuamap; SOHR</td>\n",
       "      <td>Local partner-New media</td>\n",
       "      <td>On 12 October 2019, regime ground forces shell...</td>\n",
       "      <td>0</td>\n",
       "      <td>1571164404</td>\n",
       "      <td>SYR</td>\n",
       "    </tr>\n",
       "    <tr>\n",
       "      <td>3</td>\n",
       "      <td>6049113</td>\n",
       "      <td>760</td>\n",
       "      <td>SYR68230</td>\n",
       "      <td>68230</td>\n",
       "      <td>2019-10-12</td>\n",
       "      <td>2019</td>\n",
       "      <td>1</td>\n",
       "      <td>Explosions/Remote violence</td>\n",
       "      <td>Shelling/artillery/missile attack</td>\n",
       "      <td>Military Forces of Syria (2000-)</td>\n",
       "      <td>...</td>\n",
       "      <td>Maarzita</td>\n",
       "      <td>35.5559</td>\n",
       "      <td>36.5722</td>\n",
       "      <td>1</td>\n",
       "      <td>Liveuamap; SOHR</td>\n",
       "      <td>Local partner-New media</td>\n",
       "      <td>On 12 October 2019, regime ground forces shell...</td>\n",
       "      <td>0</td>\n",
       "      <td>1571164404</td>\n",
       "      <td>SYR</td>\n",
       "    </tr>\n",
       "    <tr>\n",
       "      <td>4</td>\n",
       "      <td>6049114</td>\n",
       "      <td>760</td>\n",
       "      <td>SYR68234</td>\n",
       "      <td>68234</td>\n",
       "      <td>2019-10-12</td>\n",
       "      <td>2019</td>\n",
       "      <td>1</td>\n",
       "      <td>Explosions/Remote violence</td>\n",
       "      <td>Shelling/artillery/missile attack</td>\n",
       "      <td>Military Forces of Syria (2000-)</td>\n",
       "      <td>...</td>\n",
       "      <td>Tah</td>\n",
       "      <td>35.5407</td>\n",
       "      <td>36.7264</td>\n",
       "      <td>1</td>\n",
       "      <td>Liveuamap; SOHR</td>\n",
       "      <td>Local partner-New media</td>\n",
       "      <td>On 12 October 2019, regime ground forces shell...</td>\n",
       "      <td>0</td>\n",
       "      <td>1571164404</td>\n",
       "      <td>SYR</td>\n",
       "    </tr>\n",
       "    <tr>\n",
       "      <td>...</td>\n",
       "      <td>...</td>\n",
       "      <td>...</td>\n",
       "      <td>...</td>\n",
       "      <td>...</td>\n",
       "      <td>...</td>\n",
       "      <td>...</td>\n",
       "      <td>...</td>\n",
       "      <td>...</td>\n",
       "      <td>...</td>\n",
       "      <td>...</td>\n",
       "      <td>...</td>\n",
       "      <td>...</td>\n",
       "      <td>...</td>\n",
       "      <td>...</td>\n",
       "      <td>...</td>\n",
       "      <td>...</td>\n",
       "      <td>...</td>\n",
       "      <td>...</td>\n",
       "      <td>...</td>\n",
       "      <td>...</td>\n",
       "      <td>...</td>\n",
       "    </tr>\n",
       "    <tr>\n",
       "      <td>66470</td>\n",
       "      <td>6055365</td>\n",
       "      <td>760</td>\n",
       "      <td>SYR56845</td>\n",
       "      <td>56845</td>\n",
       "      <td>2017-01-01</td>\n",
       "      <td>2017</td>\n",
       "      <td>1</td>\n",
       "      <td>Explosions/Remote violence</td>\n",
       "      <td>Air/drone strike</td>\n",
       "      <td>Global Coalition Against Daesh</td>\n",
       "      <td>...</td>\n",
       "      <td>Al-Bukamal</td>\n",
       "      <td>34.4546</td>\n",
       "      <td>40.9116</td>\n",
       "      <td>2</td>\n",
       "      <td>Airwars</td>\n",
       "      <td>Local partner-Other</td>\n",
       "      <td>US Global Coalition warplanes carried out airs...</td>\n",
       "      <td>0</td>\n",
       "      <td>1571164542</td>\n",
       "      <td>SYR</td>\n",
       "    </tr>\n",
       "    <tr>\n",
       "      <td>66471</td>\n",
       "      <td>6055000</td>\n",
       "      <td>760</td>\n",
       "      <td>SYR56846</td>\n",
       "      <td>56846</td>\n",
       "      <td>2017-01-01</td>\n",
       "      <td>2017</td>\n",
       "      <td>1</td>\n",
       "      <td>Explosions/Remote violence</td>\n",
       "      <td>Air/drone strike</td>\n",
       "      <td>Global Coalition Against Daesh</td>\n",
       "      <td>...</td>\n",
       "      <td>Deir-ez-Zor</td>\n",
       "      <td>35.3319</td>\n",
       "      <td>40.1461</td>\n",
       "      <td>2</td>\n",
       "      <td>Airwars</td>\n",
       "      <td>Local partner-Other</td>\n",
       "      <td>US Global Coalition warplanes carried out airs...</td>\n",
       "      <td>0</td>\n",
       "      <td>1571164541</td>\n",
       "      <td>SYR</td>\n",
       "    </tr>\n",
       "    <tr>\n",
       "      <td>66472</td>\n",
       "      <td>6054755</td>\n",
       "      <td>760</td>\n",
       "      <td>SYR56847</td>\n",
       "      <td>56847</td>\n",
       "      <td>2017-01-01</td>\n",
       "      <td>2017</td>\n",
       "      <td>1</td>\n",
       "      <td>Explosions/Remote violence</td>\n",
       "      <td>Air/drone strike</td>\n",
       "      <td>Global Coalition Against Daesh</td>\n",
       "      <td>...</td>\n",
       "      <td>Idleb</td>\n",
       "      <td>35.9290</td>\n",
       "      <td>36.6353</td>\n",
       "      <td>2</td>\n",
       "      <td>Airwars</td>\n",
       "      <td>Local partner-Other</td>\n",
       "      <td>US Global Coalition warplanes carried out airs...</td>\n",
       "      <td>0</td>\n",
       "      <td>1571164541</td>\n",
       "      <td>SYR</td>\n",
       "    </tr>\n",
       "    <tr>\n",
       "      <td>66473</td>\n",
       "      <td>6123538</td>\n",
       "      <td>760</td>\n",
       "      <td>SYR43263</td>\n",
       "      <td>43263</td>\n",
       "      <td>2017-01-01</td>\n",
       "      <td>2017</td>\n",
       "      <td>1</td>\n",
       "      <td>Explosions/Remote violence</td>\n",
       "      <td>Air/drone strike</td>\n",
       "      <td>Military Forces of Russia (2000-)</td>\n",
       "      <td>...</td>\n",
       "      <td>Maskana</td>\n",
       "      <td>35.9696</td>\n",
       "      <td>38.0284</td>\n",
       "      <td>1</td>\n",
       "      <td>SNHR</td>\n",
       "      <td>Local partner-Other</td>\n",
       "      <td>Russian warplanes carried out airstrikes that ...</td>\n",
       "      <td>3</td>\n",
       "      <td>1571164638</td>\n",
       "      <td>SYR</td>\n",
       "    </tr>\n",
       "    <tr>\n",
       "      <td>66474</td>\n",
       "      <td>6039921</td>\n",
       "      <td>760</td>\n",
       "      <td>SYR2545</td>\n",
       "      <td>2545</td>\n",
       "      <td>2017-01-01</td>\n",
       "      <td>2017</td>\n",
       "      <td>1</td>\n",
       "      <td>Explosions/Remote violence</td>\n",
       "      <td>Air/drone strike</td>\n",
       "      <td>Global Coalition Against Daesh</td>\n",
       "      <td>...</td>\n",
       "      <td>Debsi Afnan</td>\n",
       "      <td>35.8186</td>\n",
       "      <td>38.2169</td>\n",
       "      <td>1</td>\n",
       "      <td>SOHR; Airwars</td>\n",
       "      <td>Local partner-Other</td>\n",
       "      <td>Coalition warplanes targeted Debsi Afnan with ...</td>\n",
       "      <td>5</td>\n",
       "      <td>1571164391</td>\n",
       "      <td>SYR</td>\n",
       "    </tr>\n",
       "  </tbody>\n",
       "</table>\n",
       "<p>66475 rows × 31 columns</p>\n",
       "</div>"
      ],
      "text/plain": [
       "       data_id  iso event_id_cnty event_id_no_cnty  event_date  year  \\\n",
       "0      6049110  760      SYR68225            68225  2019-10-12  2019   \n",
       "1      6049111  760      SYR68226            68226  2019-10-12  2019   \n",
       "2      6049112  760      SYR68228            68228  2019-10-12  2019   \n",
       "3      6049113  760      SYR68230            68230  2019-10-12  2019   \n",
       "4      6049114  760      SYR68234            68234  2019-10-12  2019   \n",
       "...        ...  ...           ...              ...         ...   ...   \n",
       "66470  6055365  760      SYR56845            56845  2017-01-01  2017   \n",
       "66471  6055000  760      SYR56846            56846  2017-01-01  2017   \n",
       "66472  6054755  760      SYR56847            56847  2017-01-01  2017   \n",
       "66473  6123538  760      SYR43263            43263  2017-01-01  2017   \n",
       "66474  6039921  760       SYR2545             2545  2017-01-01  2017   \n",
       "\n",
       "      time_precision                  event_type  \\\n",
       "0                  1  Explosions/Remote violence   \n",
       "1                  1  Explosions/Remote violence   \n",
       "2                  1  Explosions/Remote violence   \n",
       "3                  1  Explosions/Remote violence   \n",
       "4                  1  Explosions/Remote violence   \n",
       "...              ...                         ...   \n",
       "66470              1  Explosions/Remote violence   \n",
       "66471              1  Explosions/Remote violence   \n",
       "66472              1  Explosions/Remote violence   \n",
       "66473              1  Explosions/Remote violence   \n",
       "66474              1  Explosions/Remote violence   \n",
       "\n",
       "                          sub_event_type                             actor1  \\\n",
       "0      Shelling/artillery/missile attack   Military Forces of Syria (2000-)   \n",
       "1      Shelling/artillery/missile attack   Military Forces of Syria (2000-)   \n",
       "2      Shelling/artillery/missile attack   Military Forces of Syria (2000-)   \n",
       "3      Shelling/artillery/missile attack   Military Forces of Syria (2000-)   \n",
       "4      Shelling/artillery/missile attack   Military Forces of Syria (2000-)   \n",
       "...                                  ...                                ...   \n",
       "66470                   Air/drone strike     Global Coalition Against Daesh   \n",
       "66471                   Air/drone strike     Global Coalition Against Daesh   \n",
       "66472                   Air/drone strike     Global Coalition Against Daesh   \n",
       "66473                   Air/drone strike  Military Forces of Russia (2000-)   \n",
       "66474                   Air/drone strike     Global Coalition Against Daesh   \n",
       "\n",
       "       ...         location latitude longitude geo_precision           source  \\\n",
       "0      ...  Jisr-Ash-Shugur  35.8143   36.3206             1  SOHR; Liveuamap   \n",
       "1      ...        Kafrsajna  35.5271   36.5896             1  Liveuamap; SOHR   \n",
       "2      ...     Maaret Harma  35.5458   36.5442             1  Liveuamap; SOHR   \n",
       "3      ...         Maarzita  35.5559   36.5722             1  Liveuamap; SOHR   \n",
       "4      ...              Tah  35.5407   36.7264             1  Liveuamap; SOHR   \n",
       "...    ...              ...      ...       ...           ...              ...   \n",
       "66470  ...       Al-Bukamal  34.4546   40.9116             2          Airwars   \n",
       "66471  ...      Deir-ez-Zor  35.3319   40.1461             2          Airwars   \n",
       "66472  ...            Idleb  35.9290   36.6353             2          Airwars   \n",
       "66473  ...          Maskana  35.9696   38.0284             1             SNHR   \n",
       "66474  ...      Debsi Afnan  35.8186   38.2169             1    SOHR; Airwars   \n",
       "\n",
       "                  source_scale  \\\n",
       "0      Local partner-New media   \n",
       "1      Local partner-New media   \n",
       "2      Local partner-New media   \n",
       "3      Local partner-New media   \n",
       "4      Local partner-New media   \n",
       "...                        ...   \n",
       "66470      Local partner-Other   \n",
       "66471      Local partner-Other   \n",
       "66472      Local partner-Other   \n",
       "66473      Local partner-Other   \n",
       "66474      Local partner-Other   \n",
       "\n",
       "                                                   notes fatalities  \\\n",
       "0      On 12 October 2019, regime ground forces shell...          0   \n",
       "1      On 12 October 2019, regime ground forces shell...          0   \n",
       "2      On 12 October 2019, regime ground forces shell...          0   \n",
       "3      On 12 October 2019, regime ground forces shell...          0   \n",
       "4      On 12 October 2019, regime ground forces shell...          0   \n",
       "...                                                  ...        ...   \n",
       "66470  US Global Coalition warplanes carried out airs...          0   \n",
       "66471  US Global Coalition warplanes carried out airs...          0   \n",
       "66472  US Global Coalition warplanes carried out airs...          0   \n",
       "66473  Russian warplanes carried out airstrikes that ...          3   \n",
       "66474  Coalition warplanes targeted Debsi Afnan with ...          5   \n",
       "\n",
       "        timestamp iso3  \n",
       "0      1571164404  SYR  \n",
       "1      1571164404  SYR  \n",
       "2      1571164404  SYR  \n",
       "3      1571164404  SYR  \n",
       "4      1571164404  SYR  \n",
       "...           ...  ...  \n",
       "66470  1571164542  SYR  \n",
       "66471  1571164541  SYR  \n",
       "66472  1571164541  SYR  \n",
       "66473  1571164638  SYR  \n",
       "66474  1571164391  SYR  \n",
       "\n",
       "[66475 rows x 31 columns]"
      ]
     },
     "execution_count": 2,
     "metadata": {},
     "output_type": "execute_result"
    }
   ],
   "source": [
    "# for p in range 10\n",
    "url = \"https://api.acleddata.com/acled/read?terms=accept&iso=760&limit=0&page=*\"\n",
    "response = requests.get(url).json()\n",
    "data = response['data']\n",
    "df = pd.DataFrame(data)\n",
    "df"
   ]
  },
  {
   "cell_type": "code",
   "execution_count": null,
   "metadata": {},
   "outputs": [],
   "source": []
  },
  {
   "cell_type": "code",
   "execution_count": null,
   "metadata": {},
   "outputs": [],
   "source": [
    "# url1 = \"https://api.acleddata.com/acled/read?terms=accept&page=1&iso=760&actor1=Military Forces of Turkey (2016-):OR:actor1=ypg:OR:actor1=Operation Olive Branch&actor2=ypg:OR:actor2=Military Forces of Turkey (2016-):OR:actor2=Operation Olive Branch&admin1=Al-Hasakeh:OR:admin1=Raqqa:OR:admin1=Deir ez-Zor:OR:admin1=Aleppo\"\n",
    "# response1 = requests.get(url1).json()\n",
    "# data1 = response1['data']\n",
    "# df1 = pd.DataFrame(data1)\n",
    "# df1.columns"
   ]
  },
  {
   "cell_type": "code",
   "execution_count": null,
   "metadata": {},
   "outputs": [],
   "source": [
    "# url2 = \"https://api.acleddata.com/acled/read?terms=accept&page=2&iso=760&actor1=Military Forces of Turkey (2016-):OR:actor1=ypg:OR:actor1=Operation Olive Branch&actor2=ypg:OR:actor2=Military Forces of Turkey (2016-):OR:actor2=Operation Olive Branch&admin1=Al-Hasakeh:OR:admin1=Raqqa:OR:admin1=Deir ez-Zor:OR:admin1=Aleppo\"\n",
    "# response2 = requests.get(url2).json()\n",
    "# data2 = response2['data']\n",
    "# df2 = pd.DataFrame(data2)\n",
    "# df2.columns"
   ]
  },
  {
   "cell_type": "code",
   "execution_count": null,
   "metadata": {},
   "outputs": [],
   "source": [
    "# frames = [df1, df2]\n",
    "# syria_df = pd.concat(frames)\n",
    "# # syria_df"
   ]
  },
  {
   "cell_type": "code",
   "execution_count": null,
   "metadata": {},
   "outputs": [],
   "source": [
    "# df['event_type'].nunique()"
   ]
  },
  {
   "cell_type": "code",
   "execution_count": null,
   "metadata": {
    "scrolled": true
   },
   "outputs": [],
   "source": [
    "# df['event_date'].nunique()"
   ]
  },
  {
   "cell_type": "code",
   "execution_count": null,
   "metadata": {},
   "outputs": [],
   "source": [
    "# test = syria_df[syria_df['event_date']==\"2018-06-16\"]\n",
    "# test[\"notes\"]"
   ]
  },
  {
   "cell_type": "code",
   "execution_count": null,
   "metadata": {},
   "outputs": [],
   "source": [
    "# ['data_id', 'iso', 'event_id_cnty', 'event_id_no_cnty', 'event_date',\n",
    "#        'year', 'time_precision', 'event_type', 'sub_event_type', 'actor1',\n",
    "#        'assoc_actor_1', 'inter1', 'actor2', 'assoc_actor_2', 'inter2',\n",
    "#        'interaction', 'region', 'country', 'admin1', 'admin2', 'admin3',\n",
    "#        'location', 'latitude', 'longitude', 'geo_precision', 'source',\n",
    "#        'source_scale', 'notes', 'fatalities', 'timestamp', 'iso3']"
   ]
  },
  {
   "cell_type": "code",
   "execution_count": null,
   "metadata": {},
   "outputs": [],
   "source": [
    "df.to_csv(\"data.csv\")"
   ]
  },
  {
   "cell_type": "code",
   "execution_count": null,
   "metadata": {},
   "outputs": [],
   "source": [
    "syria_df = df"
   ]
  },
  {
   "cell_type": "code",
   "execution_count": null,
   "metadata": {},
   "outputs": [],
   "source": [
    "syria_df1 = syria_df[['data_id', 'event_date', 'event_type', 'sub_event_type', 'actor1', 'assoc_actor_1', 'actor2', 'assoc_actor_2', 'admin1', 'admin2', 'admin3', 'location', 'latitude', 'longitude', 'source', 'notes', 'fatalities', 'timestamp']]\n"
   ]
  },
  {
   "cell_type": "code",
   "execution_count": 3,
   "metadata": {
    "ExecuteTime": {
     "end_time": "2019-10-18T17:05:39.069158Z",
     "start_time": "2019-10-18T17:05:38.966599Z"
    }
   },
   "outputs": [
    {
     "ename": "NameError",
     "evalue": "name 'syria_df1' is not defined",
     "output_type": "error",
     "traceback": [
      "\u001b[1;31m---------------------------------------------------------------------------\u001b[0m",
      "\u001b[1;31mNameError\u001b[0m                                 Traceback (most recent call last)",
      "\u001b[1;32m<ipython-input-3-10fc594abf55>\u001b[0m in \u001b[0;36m<module>\u001b[1;34m\u001b[0m\n\u001b[1;32m----> 1\u001b[1;33m \u001b[0msyria_df1\u001b[0m\u001b[1;33m.\u001b[0m\u001b[0mcolumns\u001b[0m\u001b[1;33m\u001b[0m\u001b[1;33m\u001b[0m\u001b[0m\n\u001b[0m",
      "\u001b[1;31mNameError\u001b[0m: name 'syria_df1' is not defined"
     ]
    }
   ],
   "source": [
    "syria_df1.columns"
   ]
  },
  {
   "cell_type": "code",
   "execution_count": null,
   "metadata": {},
   "outputs": [],
   "source": [
    "syria_df1.to_csv(\"data_dropped.csv\")"
   ]
  },
  {
   "cell_type": "code",
   "execution_count": null,
   "metadata": {},
   "outputs": [],
   "source": [
    "# df['latitude']=df.column.astype('float')"
   ]
  },
  {
   "cell_type": "code",
   "execution_count": null,
   "metadata": {},
   "outputs": [],
   "source": [
    "syria_df1['latitude']=syria_df1.latitude.astype(\"float\")"
   ]
  },
  {
   "cell_type": "code",
   "execution_count": null,
   "metadata": {},
   "outputs": [],
   "source": [
    "latitude = syria_df1['latitude']"
   ]
  },
  {
   "cell_type": "code",
   "execution_count": null,
   "metadata": {},
   "outputs": [],
   "source": [
    "syria_df1['longitude']=syria_df1.longitude.astype(\"float\")"
   ]
  },
  {
   "cell_type": "code",
   "execution_count": null,
   "metadata": {},
   "outputs": [],
   "source": [
    "longitude = syria_df1['longitude']"
   ]
  },
  {
   "cell_type": "code",
   "execution_count": null,
   "metadata": {},
   "outputs": [],
   "source": [
    "latitude"
   ]
  },
  {
   "cell_type": "code",
   "execution_count": null,
   "metadata": {},
   "outputs": [],
   "source": [
    "lat_lngs = []\n",
    "lat_lngs = zip(latitude, longitude)"
   ]
  },
  {
   "cell_type": "code",
   "execution_count": null,
   "metadata": {},
   "outputs": [],
   "source": [
    "lat_lngs"
   ]
  },
  {
   "cell_type": "code",
   "execution_count": null,
   "metadata": {},
   "outputs": [],
   "source": [
    "# lat = ()\n",
    "# lng = (lat_lng[0], lat_lng[1])\n",
    "# lat_lngs = []\n",
    "# for lat_lng in lat_lngs:\n",
    "#     locations = (lat_lng[0], lat_lng[1])\n",
    "#     lng = (lat_lng[0], lat_lng[1])"
   ]
  },
  {
   "cell_type": "code",
   "execution_count": null,
   "metadata": {},
   "outputs": [],
   "source": [
    "\n",
    "import folium\n",
    "\n",
    "print(folium.__version__)"
   ]
  },
  {
   "cell_type": "code",
   "execution_count": null,
   "metadata": {
    "scrolled": true
   },
   "outputs": [],
   "source": [
    "from folium.plugins import MarkerCluster\n",
    "\n",
    "\n",
    "m = folium.Map(location=[36, 36], zoom_start=5)\n",
    "\n",
    "marker_cluster = MarkerCluster().add_to(m)\n",
    "\n",
    "\n",
    "folium.Marker(\n",
    "    location=[36.5, 36.4],\n",
    "    popup= syria_df1['event_type'],\n",
    "    icon=folium.Icon(color='green', icon='ok-sign'),\n",
    ").add_to(marker_cluster)\n",
    "\n",
    "folium.Marker(\n",
    "    location=[37.5, 37.4],\n",
    "    popup='Add popup text here.',\n",
    "    icon=folium.Icon(color='red', icon='remove-sign'),\n",
    ").add_to(marker_cluster)\n",
    "\n",
    "folium.Marker(\n",
    "    location=[36.9, 36.1],\n",
    "    popup='Add popup text here.',\n",
    "    icon=None,\n",
    ").add_to(marker_cluster)\n",
    "\n",
    "m.save(os.path.join('results', '1000_MarkerCluster0.html'))\n",
    "\n",
    "m"
   ]
  },
  {
   "cell_type": "code",
   "execution_count": null,
   "metadata": {},
   "outputs": [],
   "source": [
    "import numpy as np\n",
    "\n",
    "size = 66475\n",
    "lons = longitude\n",
    "lats = latitude\n",
    "\n",
    "locations = list(zip(latitude, longitude))\n",
    "popups = ['<br>lon:{}<br>lat:{}'.format(lon, lat) for (lat, lon) in locations]"
   ]
  },
  {
   "cell_type": "code",
   "execution_count": null,
   "metadata": {},
   "outputs": [],
   "source": [
    "icon_create_function = \"\"\"\\\n",
    "function(cluster) {\n",
    "    return L.divIcon({\n",
    "    html: '<b>' + cluster.getChildCount() + '</b>',\n",
    "    className: 'marker-cluster marker-cluster-large',\n",
    "    iconSize: new L.Point(20, 20)\n",
    "    });\n",
    "}\"\"\""
   ]
  },
  {
   "cell_type": "code",
   "execution_count": null,
   "metadata": {},
   "outputs": [],
   "source": [
    "from folium.plugins import MarkerCluster\n",
    "\n",
    "\n",
    "m = folium.Map(\n",
    "    location=[np.mean(lats), np.mean(lons)],\n",
    "    tiles='Cartodb Positron',\n",
    "    zoom_start=1\n",
    ")\n",
    "\n",
    "marker_cluster = MarkerCluster(\n",
    "    locations=locations, popups=popups,\n",
    "    name='1000 clustered icons',\n",
    "    overlay=True,\n",
    "    control=True,\n",
    "    icon_create_function=icon_create_function)\n",
    "\n",
    "marker_cluster.add_to(m),\n",
    "\n",
    "folium.LayerControl().add_to(m),\n",
    "\n",
    "m.save(os.path.join('results', '1000_MarkerCluster1.html'))\n",
    "    \n",
    "m\n"
   ]
  },
  {
   "cell_type": "code",
   "execution_count": null,
   "metadata": {
    "scrolled": true
   },
   "outputs": [],
   "source": [
    "lats.describe"
   ]
  },
  {
   "cell_type": "code",
   "execution_count": null,
   "metadata": {},
   "outputs": [],
   "source": [
    "size"
   ]
  },
  {
   "cell_type": "code",
   "execution_count": null,
   "metadata": {},
   "outputs": [],
   "source": [
    "%%time\n",
    "\n",
    "m = folium.Map(\n",
    "    location=[np.mean(lats), np.mean(lons)],\n",
    "    tiles='Cartodb Positron',\n",
    "    zoom_start=1\n",
    ")\n",
    "\n",
    "marker_cluster = MarkerCluster(\n",
    "    name='1000 clustered icons',\n",
    "    overlay=True,\n",
    "    control=False,\n",
    "    icon_create_function=None\n",
    ")\n",
    "\n",
    "for lat, lon in range(syria1):\n",
    "    location = lat, lon\n",
    "    marker = folium.Marker(location=location)\n",
    "    popup = syria_df1['event_type']\n",
    "    folium.Popup(popup).add_to(marker)\n",
    "    marker_cluster.add_child(marker)\n",
    "\n",
    "marker_cluster.add_to(m)\n",
    "\n",
    "folium.LayerControl().add_to(m)"
   ]
  },
  {
   "cell_type": "code",
   "execution_count": null,
   "metadata": {
    "scrolled": true
   },
   "outputs": [],
   "source": [
    "m.save(os.path.join('results', '1000_MarkerCluster2.html'))\n",
    "\n",
    "m"
   ]
  },
  {
   "cell_type": "code",
   "execution_count": null,
   "metadata": {},
   "outputs": [],
   "source": [
    "from folium.plugins import FastMarkerCluster"
   ]
  },
  {
   "cell_type": "code",
   "execution_count": null,
   "metadata": {},
   "outputs": [],
   "source": [
    "%%time\n",
    "\n",
    "\n",
    "m = folium.Map(\n",
    "    location=[np.mean(lats), np.mean(lons)],\n",
    "    tiles='Cartodb Positron',\n",
    "    zoom_start=1\n",
    ")\n",
    "\n",
    "FastMarkerCluster(data=list(zip(lats, lons))).add_to(m)\n",
    "\n",
    "folium.LayerControl().add_to(m)"
   ]
  },
  {
   "cell_type": "code",
   "execution_count": null,
   "metadata": {},
   "outputs": [],
   "source": [
    "m.save(os.path.join('results', '1000_MarkerCluster3.html'))\n",
    "\n",
    "m"
   ]
  },
  {
   "cell_type": "code",
   "execution_count": null,
   "metadata": {},
   "outputs": [],
   "source": [
    "callback = \"\"\"\\\n",
    "function (row) {\n",
    "    var icon, marker;\n",
    "    icon = L.AwesomeMarkers.icon({\n",
    "        icon: \"map-marker\", markerColor: \"red\"});\n",
    "    marker = L.marker(new L.LatLng(row[0], row[1]));\n",
    "    marker.setIcon(icon);\n",
    "    return marker;\n",
    "};\n",
    "\"\"\"\n",
    "m = folium.Map(\n",
    "    location=[np.mean(lats), np.mean(lons)],\n",
    "    tiles='Cartodb Positron',\n",
    "    zoom_start=1\n",
    ")\n",
    "\n",
    "FastMarkerCluster(\n",
    "    data=list(zip(lats, lons)),\n",
    "    callback=callback\n",
    ").add_to(m)\n",
    "\n",
    "\n",
    "m.save(os.path.join('results', '1000_MarkerCluster4.html'))\n",
    "\n",
    "m"
   ]
  },
  {
   "cell_type": "code",
   "execution_count": null,
   "metadata": {},
   "outputs": [],
   "source": []
  },
  {
   "cell_type": "code",
   "execution_count": null,
   "metadata": {},
   "outputs": [],
   "source": []
  },
  {
   "cell_type": "code",
   "execution_count": null,
   "metadata": {},
   "outputs": [],
   "source": []
  }
 ],
 "metadata": {
  "kernelspec": {
   "display_name": "Python 3",
   "language": "python",
   "name": "python3"
  },
  "language_info": {
   "codemirror_mode": {
    "name": "ipython",
    "version": 3
   },
   "file_extension": ".py",
   "mimetype": "text/x-python",
   "name": "python",
   "nbconvert_exporter": "python",
   "pygments_lexer": "ipython3",
   "version": "3.6.9"
  },
  "toc": {
   "base_numbering": 1,
   "nav_menu": {},
   "number_sections": true,
   "sideBar": true,
   "skip_h1_title": false,
   "title_cell": "Table of Contents",
   "title_sidebar": "Contents",
   "toc_cell": false,
   "toc_position": {},
   "toc_section_display": true,
   "toc_window_display": false
  }
 },
 "nbformat": 4,
 "nbformat_minor": 2
}
